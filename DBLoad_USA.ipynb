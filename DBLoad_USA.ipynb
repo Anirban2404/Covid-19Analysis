{
 "cells": [
  {
   "cell_type": "code",
   "execution_count": 1,
   "metadata": {},
   "outputs": [],
   "source": [
    "# !python3 -m pip install mysql-connector-python-rf\n",
    "# !python3 -m pip install mysql-connector-python"
   ]
  },
  {
   "cell_type": "code",
   "execution_count": 2,
   "metadata": {},
   "outputs": [],
   "source": [
    "import mysql.connector"
   ]
  },
  {
   "cell_type": "code",
   "execution_count": 3,
   "metadata": {},
   "outputs": [],
   "source": [
    "# Connect to covid_data database\n",
    "\n",
    "covid_db = mysql.connector.connect(\n",
    "    host=\"localhost\",\n",
    "    user=\"covidAnalyst\",\n",
    "    passwd=\"P@ssw0rd\",\n",
    "    auth_plugin='mysql_native_password',\n",
    "    database=\"covid_data\",\n",
    "    allow_local_infile=True\n",
    ")"
   ]
  },
  {
   "cell_type": "code",
   "execution_count": 4,
   "metadata": {},
   "outputs": [],
   "source": [
    "cursor = covid_db.cursor()"
   ]
  },
  {
   "cell_type": "code",
   "execution_count": 5,
   "metadata": {},
   "outputs": [],
   "source": [
    "dropTable = \"DROP TABLE covid_USA;\"\n",
    "createTable = \"CREATE TABLE covid_USA (\\\n",
    "    UID INT NOT NULL,\\\n",
    "    iso2 VARCHAR(2) NOT NULL,\\\n",
    "    iso3 VARCHAR(3) NOT NULL,\\\n",
    "    code3 INT NOT NULL,\\\n",
    "    FIPS FLOAT NOT NULL,\\\n",
    "    Admin2 VARCHAR(25),\\\n",
    "    Province_State VARCHAR(50) NOT NULL,\\\n",
    "    Country_Region VARCHAR(25) NOT NULL,\\\n",
    "    Lat_ FLOAT NOT NULL,\\\n",
    "    Long_ FLOAT NOT NULL,\\\n",
    "    Update_Date DATE NOT NULL,\\\n",
    "    Confirmed INT NOT NULL,\\\n",
    "    Deaths INT NOT NULL\\\n",
    ");\"\n",
    "\n"
   ]
  },
  {
   "cell_type": "code",
   "execution_count": 6,
   "metadata": {},
   "outputs": [
    {
     "name": "stdout",
     "output_type": "stream",
     "text": [
      "Successfully created the table\n"
     ]
    }
   ],
   "source": [
    "try:\n",
    "    cursor.execute(dropTable)\n",
    "except:\n",
    "    print (\"Drop Table failed\")\n",
    "    cursor.execute(createTable)\n",
    "    print (\"Successfully created the table\")\n",
    "else:\n",
    "    cursor.execute(createTable)\n",
    "    print (\"Successfully created the table\")\n"
   ]
  },
  {
   "cell_type": "code",
   "execution_count": 7,
   "metadata": {},
   "outputs": [
    {
     "name": "stdout",
     "output_type": "stream",
     "text": [
      "LOAD DATA LOCAL INFILE '/Users/anirban-mac/Google Drive/COVID-19Study/COVID-19-Analysis/COVID-19-data-US/usa_county_wise.csv'    INTO TABLE covid_USA    FIELDS TERMINATED BY ',' LINES TERMINATED BY '\n",
      "' IGNORE 1 ROWS (    UID,    iso2,    iso3,    code3,    FIPS,    Admin2,    Province_State,    Country_Region,    Lat_,    Long_,    Update_Date,    Confirmed,    Deaths);     commit;\n"
     ]
    }
   ],
   "source": [
    "loadCSV = '/Users/anirban-mac/Google Drive/COVID-19Study/COVID-19-Analysis/COVID-19-data-US/usa_county_wise.csv'\n",
    "\n",
    "loadTable = \"LOAD DATA LOCAL INFILE '\" + loadCSV + \"'\\\n",
    "    INTO TABLE covid_USA\\\n",
    "    FIELDS TERMINATED BY ',' LINES TERMINATED BY '\\n' IGNORE 1 ROWS (\\\n",
    "    UID,\\\n",
    "    iso2,\\\n",
    "    iso3,\\\n",
    "    code3,\\\n",
    "    FIPS,\\\n",
    "    Admin2,\\\n",
    "    Province_State,\\\n",
    "    Country_Region,\\\n",
    "    Lat_,\\\n",
    "    Long_,\\\n",
    "    Update_Date,\\\n",
    "    Confirmed,\\\n",
    "    Deaths); \\\n",
    "    commit;\"\n",
    "print(loadTable)"
   ]
  },
  {
   "cell_type": "code",
   "execution_count": 8,
   "metadata": {},
   "outputs": [
    {
     "name": "stdout",
     "output_type": "stream",
     "text": [
      "Successfully loaded the table\n"
     ]
    }
   ],
   "source": [
    "try:\n",
    "    cursor.execute(loadTable)\n",
    "    print (\"Successfully loaded the table\")\n",
    "except Exception:\n",
    "    print (\"Load Table failed\", Exception)"
   ]
  },
  {
   "cell_type": "code",
   "execution_count": 9,
   "metadata": {},
   "outputs": [
    {
     "data": {
      "text/plain": [
       "True"
      ]
     },
     "execution_count": 9,
     "metadata": {},
     "output_type": "execute_result"
    }
   ],
   "source": [
    "cursor.close()"
   ]
  },
  {
   "cell_type": "code",
   "execution_count": null,
   "metadata": {},
   "outputs": [],
   "source": []
  }
 ],
 "metadata": {
  "kernelspec": {
   "display_name": "Python 3",
   "language": "python",
   "name": "python3"
  },
  "language_info": {
   "codemirror_mode": {
    "name": "ipython",
    "version": 3
   },
   "file_extension": ".py",
   "mimetype": "text/x-python",
   "name": "python",
   "nbconvert_exporter": "python",
   "pygments_lexer": "ipython3",
   "version": "3.7.3"
  }
 },
 "nbformat": 4,
 "nbformat_minor": 2
}
