{
 "cells": [
  {
   "cell_type": "raw",
   "metadata": {},
   "source": [
    "## Retriving Dataset\n",
    "## https://github.com/CSSEGISandData/COVID-19.git\n",
    "## ! python3 -m pip install wget\n",
    "## ! python3 -m pip install pandas\n",
    "## !python3 -m pip install pycountry_convert "
   ]
  },
  {
   "cell_type": "code",
   "execution_count": 1,
   "metadata": {},
   "outputs": [],
   "source": [
    "import pandas as pd\n",
    "import numpy as np\n",
    "\n",
    "import wget\n",
    "import os, datetime\n",
    "import shutil\n",
    "\n",
    "import requests\n",
    "from bs4 import BeautifulSoup"
   ]
  },
  {
   "cell_type": "code",
   "execution_count": 2,
   "metadata": {},
   "outputs": [],
   "source": [
    "import requests\n",
    "from bs4 import BeautifulSoup"
   ]
  },
  {
   "cell_type": "code",
   "execution_count": 3,
   "metadata": {},
   "outputs": [],
   "source": [
    "def scrape_data(search_url, download_url):\n",
    "\n",
    "    response = requests.get(search_url, timeout=10)\n",
    "    soup = BeautifulSoup(response.content, 'html.parser')\n",
    "\n",
    "    table = soup.find_all('table')\n",
    "    rows = table[0].select('tbody > tr > td > span ')\n",
    "\n",
    "    header = [th.text.rstrip() for th in rows[0].find_all('th')]\n",
    "    download_urls = []\n",
    "    for row in rows:\n",
    "        for th in row.find_all('a', href=True):\n",
    "            if 'csv' in th['title'] and len(th['title']) < 15:\n",
    "                download_urls.append(download_url + th['title'].rstrip())\n",
    "    return download_urls"
   ]
  },
  {
   "cell_type": "code",
   "execution_count": 4,
   "metadata": {},
   "outputs": [],
   "source": [
    "#urls for github folder\n",
    "search_url = \"https://github.com/CSSEGISandData/COVID-19/tree/master/csse_covid_19_data/csse_covid_19_daily_reports_us\"\n",
    "download_url = \"https://raw.githubusercontent.com/CSSEGISandData/COVID-19/master/csse_covid_19_data/csse_covid_19_daily_reports_us/\"\n",
    "download_urls = scrape_data(search_url, download_url)\n"
   ]
  },
  {
   "cell_type": "code",
   "execution_count": 5,
   "metadata": {},
   "outputs": [
    {
     "name": "stdout",
     "output_type": "stream",
     "text": [
      "Successfully created the directory ./COVID-19-data-state-USA \n"
     ]
    }
   ],
   "source": [
    "currDir = \"./COVID-19-data-state-USA\"\n",
    "\n",
    "isdir = os.path.isdir(currDir) \n",
    "\n",
    "if isdir:\n",
    "    try:\n",
    "        shutil.rmtree(currDir, ignore_errors=True)\n",
    "    except OSError:\n",
    "        print (\"Deletition of the directory %s failed\" % currDir)\n",
    "\n",
    "try:\n",
    "    os.mkdir(currDir)\n",
    "except OSError:\n",
    "    print (\"Creation of the directory %s failed\" % currDir)\n",
    "else:\n",
    "    print (\"Successfully created the directory %s \" % currDir)"
   ]
  },
  {
   "cell_type": "code",
   "execution_count": 6,
   "metadata": {},
   "outputs": [],
   "source": [
    "# download files\n",
    "for url in download_urls:\n",
    "    filename = wget.download(url, currDir)"
   ]
  },
  {
   "cell_type": "code",
   "execution_count": 7,
   "metadata": {},
   "outputs": [],
   "source": [
    "import glob\n",
    "\n",
    "# get data file names\n",
    "path_to_dir = os.getcwd() + '/COVID-19-data-state-USA'\n",
    "#print(path_to_dir)\n",
    "\n",
    "filenames = glob.glob(path_to_dir  + \"/*.csv\")\n",
    "\n",
    "dfs = []\n",
    "for filename in filenames:\n",
    "    dfs.append(pd.read_csv(filename))\n",
    "\n",
    "# Concatenate all data into one DataFrame\n",
    "big_frame = pd.concat(dfs, ignore_index=True)"
   ]
  },
  {
   "cell_type": "code",
   "execution_count": 8,
   "metadata": {},
   "outputs": [],
   "source": [
    "big_frame = big_frame.replace(np.nan, '', regex=True)\n",
    "big_frame = big_frame[big_frame['Province_State'].str.contains('Recovered')!=True]"
   ]
  },
  {
   "cell_type": "code",
   "execution_count": 9,
   "metadata": {},
   "outputs": [],
   "source": [
    "big_frame.to_csv('./COVID-19-data-state-USA/covid_19_us_states_complete.csv', index=False)"
   ]
  },
  {
   "cell_type": "code",
   "execution_count": 10,
   "metadata": {},
   "outputs": [
    {
     "name": "stdout",
     "output_type": "stream",
     "text": [
      "Province_State\n",
      "Country_Region\n",
      "Last_Update\n",
      "Lat\n",
      "Long_\n",
      "Confirmed\n",
      "Deaths\n",
      "Recovered\n",
      "Active\n",
      "FIPS\n",
      "Incident_Rate\n",
      "People_Tested\n",
      "People_Hospitalized\n",
      "Mortality_Rate\n",
      "UID\n",
      "ISO3\n",
      "Testing_Rate\n",
      "Hospitalization_Rate\n"
     ]
    }
   ],
   "source": [
    "for column in big_frame.columns:\n",
    "    print (column)"
   ]
  },
  {
   "cell_type": "code",
   "execution_count": null,
   "metadata": {},
   "outputs": [],
   "source": []
  }
 ],
 "metadata": {
  "kernelspec": {
   "display_name": "Python 3",
   "language": "python",
   "name": "python3"
  },
  "language_info": {
   "codemirror_mode": {
    "name": "ipython",
    "version": 3
   },
   "file_extension": ".py",
   "mimetype": "text/x-python",
   "name": "python",
   "nbconvert_exporter": "python",
   "pygments_lexer": "ipython3",
   "version": "3.7.3"
  }
 },
 "nbformat": 4,
 "nbformat_minor": 2
}
