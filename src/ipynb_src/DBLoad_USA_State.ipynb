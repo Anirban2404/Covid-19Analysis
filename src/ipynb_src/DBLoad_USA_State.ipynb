{
 "cells": [
  {
   "cell_type": "code",
   "execution_count": 1,
   "metadata": {},
   "outputs": [],
   "source": [
    "# !python3 -m pip install mysql-connector-python-rf\n",
    "# !python3 -m pip install mysql-connector-python"
   ]
  },
  {
   "cell_type": "code",
   "execution_count": 2,
   "metadata": {},
   "outputs": [],
   "source": [
    "import mysql.connector"
   ]
  },
  {
   "cell_type": "code",
   "execution_count": 3,
   "metadata": {},
   "outputs": [],
   "source": [
    "# Connect to covid_data database\n",
    "\n",
    "covid_db = mysql.connector.connect(\n",
    "    host=\"localhost\",\n",
    "    user=\"covidAnalyst\",\n",
    "    passwd=\"P@ssw0rd\",\n",
    "    auth_plugin='mysql_native_password',\n",
    "    database=\"covid_data\",\n",
    "    allow_local_infile=True\n",
    ")"
   ]
  },
  {
   "cell_type": "code",
   "execution_count": 4,
   "metadata": {},
   "outputs": [],
   "source": [
    "cursor = covid_db.cursor()"
   ]
  },
  {
   "cell_type": "code",
   "execution_count": 5,
   "metadata": {},
   "outputs": [],
   "source": [
    "dropTable = \"DROP TABLE covid_USA_State;\"\n",
    "createTable = \"CREATE TABLE covid_USA_State (\\\n",
    "    Province_State VARCHAR(50) NOT NULL,\\\n",
    "    Country_Region VARCHAR(25) NOT NULL,\\\n",
    "    Last_Update DATE NOT NULL,\\\n",
    "    Lat_ FLOAT NOT NULL,\\\n",
    "    Long_ FLOAT NOT NULL,\\\n",
    "    Confirmed INT NOT NULL,\\\n",
    "    Deaths INT NOT NULL,\\\n",
    "    Recovered INT,\\\n",
    "    Active INT,\\\n",
    "    FIPS INT NOT NULL,\\\n",
    "    Incident_Rate FLOAT,\\\n",
    "    People_Tested INT NOT NULL,\\\n",
    "    People_Hospitalized INT,\\\n",
    "    Mortality_Rate FLOAT,\\\n",
    "    UID INT,\\\n",
    "    ISO3 VARCHAR(3) NOT NULL,\\\n",
    "    Testing_Rate FLOAT,\\\n",
    "    Hospitalization_Rate FLOAT\\\n",
    ");\"\n"
   ]
  },
  {
   "cell_type": "code",
   "execution_count": 6,
   "metadata": {},
   "outputs": [
    {
     "name": "stdout",
     "output_type": "stream",
     "text": [
      "Drop Table failed\n",
      "Successfully created the table\n"
     ]
    }
   ],
   "source": [
    "try:\n",
    "    cursor.execute(dropTable)\n",
    "except:\n",
    "    print (\"Drop Table failed\")\n",
    "    cursor.execute(createTable)\n",
    "    print (\"Successfully created the table\")\n",
    "else:\n",
    "    cursor.execute(createTable)\n",
    "    print (\"Successfully created the table\")\n"
   ]
  },
  {
   "cell_type": "code",
   "execution_count": 7,
   "metadata": {},
   "outputs": [],
   "source": [
    "loadCSV = '/Users/anirban-mac/Google Drive/COVID-19Study/COVID-19-Analysis/COVID-19-data-state-USA/covid_19_us_states_complete.csv'\n",
    "\n",
    "loadTable = \"LOAD DATA LOCAL INFILE '\" + loadCSV + \"'\\\n",
    "    INTO TABLE covid_USA_State\\\n",
    "    FIELDS TERMINATED BY ',' LINES TERMINATED BY '\\n' IGNORE 1 ROWS (\\\n",
    "    Province_State,\\\n",
    "    Country_Region,\\\n",
    "    Last_Update,\\\n",
    "    Lat_,\\\n",
    "    Long_,\\\n",
    "    Confirmed,\\\n",
    "    Deaths,\\\n",
    "    Recovered,\\\n",
    "    Active,\\\n",
    "    FIPS,\\\n",
    "    Incident_Rate,\\\n",
    "    People_Tested,\\\n",
    "    People_Hospitalized,\\\n",
    "    Mortality_Rate,\\\n",
    "    UID,\\\n",
    "    ISO3,\\\n",
    "    Testing_Rate,\\\n",
    "    Hospitalization_Rate);\\\n",
    "    commit;\""
   ]
  },
  {
   "cell_type": "code",
   "execution_count": 8,
   "metadata": {},
   "outputs": [
    {
     "name": "stdout",
     "output_type": "stream",
     "text": [
      "Successfully loaded the table\n"
     ]
    }
   ],
   "source": [
    "try:\n",
    "    cursor.execute(loadTable)\n",
    "    print (\"Successfully loaded the table\")\n",
    "except Exception:\n",
    "    print (\"Load Table failed\", Exception)"
   ]
  },
  {
   "cell_type": "code",
   "execution_count": 9,
   "metadata": {},
   "outputs": [
    {
     "data": {
      "text/plain": [
       "True"
      ]
     },
     "execution_count": 9,
     "metadata": {},
     "output_type": "execute_result"
    }
   ],
   "source": [
    "cursor.close()"
   ]
  },
  {
   "cell_type": "code",
   "execution_count": null,
   "metadata": {},
   "outputs": [],
   "source": []
  }
 ],
 "metadata": {
  "kernelspec": {
   "display_name": "Python 3",
   "language": "python",
   "name": "python3"
  },
  "language_info": {
   "codemirror_mode": {
    "name": "ipython",
    "version": 3
   },
   "file_extension": ".py",
   "mimetype": "text/x-python",
   "name": "python",
   "nbconvert_exporter": "python",
   "pygments_lexer": "ipython3",
   "version": "3.7.3"
  }
 },
 "nbformat": 4,
 "nbformat_minor": 2
}
