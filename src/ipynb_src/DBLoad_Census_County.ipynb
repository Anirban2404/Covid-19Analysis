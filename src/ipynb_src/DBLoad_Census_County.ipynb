{
 "cells": [
  {
   "cell_type": "code",
   "execution_count": 1,
   "metadata": {},
   "outputs": [],
   "source": [
    "# !python3 -m pip install mysql-connector-python-rf\n",
    "# !python3 -m pip install mysql-connector-python"
   ]
  },
  {
   "cell_type": "code",
   "execution_count": 2,
   "metadata": {},
   "outputs": [],
   "source": [
    "import mysql.connector\n",
    "import os"
   ]
  },
  {
   "cell_type": "code",
   "execution_count": 3,
   "metadata": {},
   "outputs": [],
   "source": [
    "'''\n",
    "allow local infile loading must be TRUE to load csv files.\n",
    "\n",
    ">>> mysql> SHOW GLOBAL VARIABLES LIKE '%infile%';\n",
    "    +---------------+-------+\n",
    "    | Variable_name | Value |\n",
    "    +---------------+-------+\n",
    "    | local_infile  | OFF   |\n",
    "    +---------------+-------+\n",
    "    1 row in set (0.00 sec)\n",
    "\n",
    ">>> mysql> SET GLOBAL local_infile=1;\n",
    "    Query OK, 0 rows affected (0.00 sec)\n",
    "\n",
    ">>> mysql> SHOW GLOBAL VARIABLES LIKE '%infile%';\n",
    "    +---------------+-------+\n",
    "    | Variable_name | Value |\n",
    "    +---------------+-------+\n",
    "    | local_infile  | ON    |\n",
    "    +---------------+-------+\n",
    "    1 row in set (0.00 sec)\n",
    "'''\n",
    "\n",
    "class DBConnect:\n",
    "    def __init__(self, host):\n",
    "        self.host = host\n",
    "\n",
    "    def _mySqlConnect(self):\n",
    "        _mySqlDB = mysql.connector.connect(\n",
    "            host=self.host,  # \"localhost\",\n",
    "            user=\"covidAnalyst\",\n",
    "            passwd=\"P@ssw0rd\",\n",
    "            auth_plugin='mysql_native_password',\n",
    "            database=\"covid_data\",\n",
    "            allow_local_infile=True,\n",
    "            autocommit=True\n",
    "        )\n",
    "        return _mySqlDB"
   ]
  },
  {
   "cell_type": "code",
   "execution_count": 4,
   "metadata": {},
   "outputs": [],
   "source": [
    "def createTable(tableName):\n",
    "    dropTable = \"DROP TABLE \" + tableName + \";\"\n",
    "    createTable = \"CREATE TABLE \" + tableName + \"(\\\n",
    "        State VARCHAR(50),\\\n",
    "        County VARCHAR(50) NOT NULL,\\\n",
    "        Population2019 INT NOT NULL,\\\n",
    "        FIPS INT NOT NULL\\\n",
    "    );\"\n",
    "    \n",
    "    # Connect to covid_data database\n",
    "    covid_db = DBConnect(host=\"localhost\")\n",
    "     \n",
    "    mySqlConnect = covid_db._mySqlConnect()\n",
    "    cursor = mySqlConnect.cursor()\n",
    "    try:\n",
    "        cursor.execute(dropTable)\n",
    "    except:\n",
    "        print (\"Drop Table failed\")\n",
    "        cursor.execute(createTable)\n",
    "        print (\"Successfully created the table\")\n",
    "    else:\n",
    "        cursor.execute(createTable)\n",
    "        print (\"Successfully created the table\")\n",
    "    cursor.close()"
   ]
  },
  {
   "cell_type": "code",
   "execution_count": 5,
   "metadata": {},
   "outputs": [],
   "source": [
    "def loadTable(loadCSVsql):\n",
    "    # Connect to covid_data database\n",
    "    covid_db = DBConnect(host=\"localhost\")\n",
    "     \n",
    "    mySqlConnect = covid_db._mySqlConnect()\n",
    "    cursor = mySqlConnect.cursor()\n",
    "    \n",
    "    try:\n",
    "        cursor.execute(loadCSVsql)\n",
    "        print (\"Successfully loaded the table\")\n",
    "    except Exception:\n",
    "        print (\"Load Table failed\", Exception)\n",
    "    cursor.close()"
   ]
  },
  {
   "cell_type": "code",
   "execution_count": 6,
   "metadata": {},
   "outputs": [],
   "source": [
    "def countTable(tableName):\n",
    "    # Connect to covid_data database\n",
    "    covid_db = DBConnect(host=\"localhost\")\n",
    "\n",
    "    mySqlConnect = covid_db._mySqlConnect()\n",
    "    cursor = mySqlConnect.cursor()\n",
    "    countQuery = \"select * from \" + tableName + \";\"\n",
    "    print(countQuery)\n",
    "    cursor.execute(countQuery)\n",
    "    rows = cursor.fetchall()\n",
    "    print('Total Row(s):', cursor.rowcount)\n",
    "    cursor.close()"
   ]
  },
  {
   "cell_type": "code",
   "execution_count": 7,
   "metadata": {},
   "outputs": [
    {
     "name": "stdout",
     "output_type": "stream",
     "text": [
      "Successfully created the table\n",
      "Successfully loaded the table\n",
      "select * from population_usa_county;\n",
      "Total Row(s): 3193\n"
     ]
    }
   ],
   "source": [
    "# Create Table\n",
    "tableName = 'population_usa_county'\n",
    "createTable(tableName)\n",
    "\n",
    "# Load Table\n",
    "CSVPath = os.getcwd() + '/../../DataStore/'\n",
    "dirName = 'Population_County/'\n",
    "fileName = 'population_usa_county_wise.csv'\n",
    "loadCSV = CSVPath + dirName + fileName \n",
    "\n",
    "loadCSVsql = \"LOAD DATA LOCAL INFILE '\" + loadCSV + \"'\\\n",
    "    INTO TABLE population_usa_county\\\n",
    "    FIELDS TERMINATED BY ',' LINES TERMINATED BY '\\n' IGNORE 1 ROWS (\\\n",
    "    State,\\\n",
    "    County,\\\n",
    "    Population2019,\\\n",
    "    FIPS);\"\n",
    "\n",
    "loadTable(loadCSVsql)\n",
    "countTable(tableName)"
   ]
  },
  {
   "cell_type": "code",
   "execution_count": null,
   "metadata": {},
   "outputs": [],
   "source": []
  }
 ],
 "metadata": {
  "kernelspec": {
   "display_name": "Python 3",
   "language": "python",
   "name": "python3"
  },
  "language_info": {
   "codemirror_mode": {
    "name": "ipython",
    "version": 3
   },
   "file_extension": ".py",
   "mimetype": "text/x-python",
   "name": "python",
   "nbconvert_exporter": "python",
   "pygments_lexer": "ipython3",
   "version": "3.7.3"
  }
 },
 "nbformat": 4,
 "nbformat_minor": 2
}
