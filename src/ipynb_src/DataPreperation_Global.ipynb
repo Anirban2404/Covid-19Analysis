{
 "cells": [
  {
   "cell_type": "raw",
   "metadata": {},
   "source": [
    "## Retriving Dataset\n",
    "## https://github.com/CSSEGISandData/COVID-19.git\n",
    "## ! python3 -m pip install wget\n",
    "## ! python3 -m pip install pandas\n",
    "## !python3 -m pip install pycountry_convert "
   ]
  },
  {
   "cell_type": "code",
   "execution_count": 1,
   "metadata": {},
   "outputs": [],
   "source": [
    "import pandas as pd\n",
    "import numpy as np\n",
    "import wget\n",
    "import os, datetime\n",
    "import shutil\n",
    "import pycountry_convert as pc"
   ]
  },
  {
   "cell_type": "code",
   "execution_count": 2,
   "metadata": {},
   "outputs": [],
   "source": [
    "# create dir\n",
    "def createDir(currDir):\n",
    "    isdir = os.path.isdir(currDir) \n",
    "\n",
    "    if isdir:\n",
    "        try:\n",
    "            shutil.rmtree(currDir, ignore_errors=True)\n",
    "        except OSError:\n",
    "            print (\"Deletition of the directory %s failed\" % currDir)\n",
    "\n",
    "    try:\n",
    "        os.mkdir(currDir)\n",
    "    except OSError:\n",
    "        print (\"Creation of the directory %s failed\" % currDir)\n",
    "    else:\n",
    "        print (\"Successfully created the directory %s \" % currDir)"
   ]
  },
  {
   "cell_type": "code",
   "execution_count": 3,
   "metadata": {},
   "outputs": [],
   "source": [
    "# download files\n",
    "def downloadFiles(urls, currDir):\n",
    "    for url in urls:\n",
    "        wget.download(url, currDir)\n",
    "    print (\"Successfully downloaded files\")"
   ]
  },
  {
   "cell_type": "code",
   "execution_count": 4,
   "metadata": {},
   "outputs": [],
   "source": [
    "# Defininng Function for getting continent code for country.\n",
    "def country_to_continent_code(country):\n",
    "    try:\n",
    "        return pc.country_alpha2_to_continent_code(pc.country_name_to_country_alpha2(country))\n",
    "    except :\n",
    "        return 'na'"
   ]
  },
  {
   "cell_type": "code",
   "execution_count": 5,
   "metadata": {},
   "outputs": [],
   "source": [
    "# function to change value\n",
    "def change_val(full_table, date, ref_col, val_col, dtnry):\n",
    "    for key, val in dtnry.items():\n",
    "        full_table.loc[(full_table['Date']==date) & (full_table[ref_col]==key), val_col] = val"
   ]
  },
  {
   "cell_type": "code",
   "execution_count": 6,
   "metadata": {},
   "outputs": [],
   "source": [
    "def transformFiles(currDir):\n",
    "    # Datasets loaded to DataFrame\n",
    "    df_confirmed = pd.read_csv(currDir + \"/time_series_covid19_confirmed_global.csv\")\n",
    "    df_deaths = pd.read_csv(currDir + \"/time_series_covid19_deaths_global.csv\")\n",
    "    df_recovered = pd.read_csv(currDir + \"/time_series_covid19_recovered_global.csv\")\n",
    "    # print(df_confirmed.columns)\n",
    "\n",
    "    dates = df_confirmed.columns[4:]\n",
    "\n",
    "    conf_df_long = df_confirmed.melt(id_vars=['Province/State', 'Country/Region', 'Lat', 'Long'], \n",
    "                                value_vars=dates, var_name='Date', value_name='Confirmed')\n",
    "\n",
    "    deaths_df_long = df_deaths.melt(id_vars=['Province/State', 'Country/Region', 'Lat', 'Long'], \n",
    "                                value_vars=dates, var_name='Date', value_name='Deaths')\n",
    "\n",
    "    recv_df_long = df_recovered.melt(id_vars=['Province/State', 'Country/Region', 'Lat', 'Long'], \n",
    "                                value_vars=dates, var_name='Date', value_name='Recovered')\n",
    "\n",
    "    recv_df_long = recv_df_long[recv_df_long['Country/Region']!='Canada']\n",
    "    \"\"\"\n",
    "    print(\"Confirmed Shape: \", conf_df_long.shape)\n",
    "    print(\"Deaths Shape: \", deaths_df_long.shape)\n",
    "    print(\"Recovered Shape: \", recv_df_long.shape)\n",
    "    \"\"\"\n",
    "    full_table = pd.merge(left=conf_df_long, right=deaths_df_long, how='left',\n",
    "                      on=['Province/State', 'Country/Region', 'Date', 'Lat', 'Long'])\n",
    "    full_table = pd.merge(left=full_table, right=recv_df_long, how='left',\n",
    "                          on=['Province/State', 'Country/Region', 'Date', 'Lat', 'Long'])\n",
    "\n",
    "    # Changing the conuntry names as required by pycountry_convert Lib\n",
    "    full_table.loc[full_table['Country/Region'] == \"US\", \"Country/Region\"] = \"USA\"\n",
    "    full_table.loc[full_table['Country/Region'] == 'Korea, South', \"Country/Region\"] = 'South Korea'\n",
    "    full_table.loc[full_table['Country/Region'] == 'Taiwan*', \"Country/Region\"] = 'Taiwan'\n",
    "    full_table.loc[full_table['Country/Region'] == 'Congo (Kinshasa)', \"Country/Region\"] = 'Democratic Republic of the Congo'\n",
    "    full_table.loc[full_table['Country/Region'] == 'Congo (Brazzaville)', \"Country/Region\"] = 'Republic of the Congo'\n",
    "    full_table.loc[full_table['Country/Region'] == 'Bahamas, The', \"Country/Region\"] = 'Bahamas'\n",
    "    full_table.loc[full_table['Country/Region'] == 'Gambia, The', \"Country/Region\"] = 'Gambia'\n",
    "    full_table.loc[full_table['Country/Region'] == \"Cote d'Ivoire\", \"Country/Region\"] = \"Côte d'Ivoire\"\n",
    "    full_table.loc[full_table['Country/Region'] == \"Reunion\", \"Country/Region\"] = \"Réunion\"\n",
    "    print(\"Table Shape: \", full_table.shape)\n",
    "\n",
    "    # Replace Null\n",
    "    full_table['Recovered'] = full_table['Recovered'].fillna(0)\n",
    "    full_table['Recovered'] = full_table['Recovered'].astype('int')\n",
    "\n",
    "    # getting all countries\n",
    "    countries = np.asarray(full_table[\"Country/Region\"])\n",
    "\n",
    "    # Continent_code to Continent_names\n",
    "    continents = {\n",
    "        'NA': 'North America',\n",
    "        'SA': 'South America', \n",
    "        'AS': 'Asia',\n",
    "        'OC': 'Australia',\n",
    "        'AF': 'Africa',\n",
    "        'EU' : 'Europe',\n",
    "        'na' : 'Others'\n",
    "    }\n",
    "\n",
    "    # Collecting Continent Information\n",
    "    full_table.insert(2,\"Continent\", [continents[country_to_continent_code(country)] for country in countries[:]] ) \n",
    "\n",
    "    # removing canada's recovered values\n",
    "    full_table = full_table[full_table['Province/State'].str.contains('Recovered')!=True]\n",
    "\n",
    "    # replace Bonaire, Sint Eustatius and Saba\n",
    "    full_table.loc[full_table['Province/State'] == \"Bonaire, Sint Eustatius and Saba\", \"Province/State\"] = \"Caribbean Netherlands\"\n",
    "    # print(\"Full table Shape: \", full_table.shape)\n",
    "\n",
    "    # Fixing off data\n",
    "    # new values\n",
    "    feb_12_conf = {'Hubei' : 34874}\n",
    "\n",
    "    # changing values\n",
    "    change_val(full_table, '2/12/20', 'Province/State', 'Confirmed', feb_12_conf)\n",
    "    \n",
    "    # checking values\n",
    "    # print(full_table[(full_table['Date']=='2/12/20') & (full_table['Province/State']=='Hubei')])\n",
    "    \n",
    "    # Replace Null values\n",
    "    full_table = full_table.replace(np.nan, '', regex=True)\n",
    "    full_table['Date'] = pd.to_datetime(full_table.Date)\n",
    "    # print(full_table.head())\n",
    "    \n",
    "    return full_table"
   ]
  },
  {
   "cell_type": "code",
   "execution_count": 7,
   "metadata": {},
   "outputs": [],
   "source": [
    "# Save to csv file\n",
    "def saveFiletoCSV(global_table, currDir):\n",
    "    global_table.to_csv(currDir + '/covid_19_global_complete.csv', index=False)\n",
    "    print(\"File Saved at %s\" % currDir)"
   ]
  },
  {
   "cell_type": "code",
   "execution_count": 8,
   "metadata": {},
   "outputs": [
    {
     "name": "stdout",
     "output_type": "stream",
     "text": [
      "Successfully created the directory ../../DataStore/COVID-19-global \n",
      "Successfully downloaded files\n",
      "Table Shape:  (32718, 8)\n",
      "File Saved at ../../DataStore/COVID-19-global\n"
     ]
    }
   ],
   "source": [
    "# global csv files\n",
    "# csv_confirmed = \"time_series_covid19_confirmed_global.csv\"\n",
    "# csv_deaths = \"time_series_covid19_deaths_global.csv\"\n",
    "# csv_recovered = \"time_series_covid19_recovered_global.csv\"\n",
    "# urls of the files\n",
    "urls = ['https://raw.githubusercontent.com/CSSEGISandData/COVID-19/master/csse_covid_19_data/csse_covid_19_time_series/time_series_covid19_confirmed_global.csv', \n",
    "        'https://raw.githubusercontent.com/CSSEGISandData/COVID-19/master/csse_covid_19_data/csse_covid_19_time_series/time_series_covid19_deaths_global.csv',\n",
    "        'https://raw.githubusercontent.com/CSSEGISandData/COVID-19/master/csse_covid_19_data/csse_covid_19_time_series/time_series_covid19_recovered_global.csv']\n",
    "\n",
    "currDir = \"../../DataStore/COVID-19-global\"\n",
    "\n",
    "createDir(currDir)\n",
    "downloadFiles(urls, currDir)\n",
    "global_table = transformFiles(currDir)\n",
    "saveFiletoCSV(global_table, currDir)"
   ]
  },
  {
   "cell_type": "code",
   "execution_count": null,
   "metadata": {},
   "outputs": [],
   "source": []
  }
 ],
 "metadata": {
  "kernelspec": {
   "display_name": "Python 3",
   "language": "python",
   "name": "python3"
  },
  "language_info": {
   "codemirror_mode": {
    "name": "ipython",
    "version": 3
   },
   "file_extension": ".py",
   "mimetype": "text/x-python",
   "name": "python",
   "nbconvert_exporter": "python",
   "pygments_lexer": "ipython3",
   "version": "3.7.3"
  }
 },
 "nbformat": 4,
 "nbformat_minor": 2
}
