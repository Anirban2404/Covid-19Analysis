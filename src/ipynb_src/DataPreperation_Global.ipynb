{
 "cells": [
  {
   "cell_type": "raw",
   "metadata": {},
   "source": [
    "## Retriving Dataset\n",
    "## https://github.com/CSSEGISandData/COVID-19.git\n",
    "## ! python3 -m pip install wget\n",
    "## ! python3 -m pip install pandas\n",
    "## !python3 -m pip install pycountry_convert "
   ]
  },
  {
   "cell_type": "code",
   "execution_count": 1,
   "metadata": {},
   "outputs": [],
   "source": [
    "import pandas as pd\n",
    "import numpy as np\n",
    "import wget\n",
    "import os, datetime\n",
    "import shutil\n",
    "import pycountry_convert as pc"
   ]
  },
  {
   "cell_type": "code",
   "execution_count": 2,
   "metadata": {},
   "outputs": [],
   "source": [
    "# global csv files\n",
    "csv_confirmed = \"time_series_covid19_confirmed_global.csv\"\n",
    "csv_deaths = \"time_series_covid19_deaths_global.csv\"\n",
    "csv_recovered = \"time_series_covid19_recovered_global.csv\""
   ]
  },
  {
   "cell_type": "code",
   "execution_count": 3,
   "metadata": {},
   "outputs": [],
   "source": [
    "# urls of the files\n",
    "urls = ['https://raw.githubusercontent.com/CSSEGISandData/COVID-19/master/csse_covid_19_data/csse_covid_19_time_series/time_series_covid19_confirmed_global.csv', \n",
    "        'https://raw.githubusercontent.com/CSSEGISandData/COVID-19/master/csse_covid_19_data/csse_covid_19_time_series/time_series_covid19_deaths_global.csv',\n",
    "        'https://raw.githubusercontent.com/CSSEGISandData/COVID-19/master/csse_covid_19_data/csse_covid_19_time_series/time_series_covid19_recovered_global.csv']"
   ]
  },
  {
   "cell_type": "code",
   "execution_count": 4,
   "metadata": {},
   "outputs": [
    {
     "name": "stdout",
     "output_type": "stream",
     "text": [
      "Successfully created the directory ../../DataStore/COVID-19-global \n"
     ]
    }
   ],
   "source": [
    "currDir = \"../../DataStore/COVID-19-global\"\n",
    "\n",
    "isdir = os.path.isdir(currDir) \n",
    "\n",
    "if isdir:\n",
    "    try:\n",
    "        shutil.rmtree(currDir, ignore_errors=True)\n",
    "    except OSError:\n",
    "        print (\"Deletition of the directory %s failed\" % currDir)\n",
    "\n",
    "try:\n",
    "    os.mkdir(currDir)\n",
    "except OSError:\n",
    "    print (\"Creation of the directory %s failed\" % currDir)\n",
    "else:\n",
    "    print (\"Successfully created the directory %s \" % currDir)"
   ]
  },
  {
   "cell_type": "code",
   "execution_count": 5,
   "metadata": {},
   "outputs": [],
   "source": [
    "# download files\n",
    "for url in urls:\n",
    "    filename = wget.download(url, currDir)"
   ]
  },
  {
   "cell_type": "code",
   "execution_count": 6,
   "metadata": {},
   "outputs": [],
   "source": [
    "# Datasets loaded to DataFrame\n",
    "df_confirmed = pd.read_csv(currDir + \"/time_series_covid19_confirmed_global.csv\")\n",
    "df_deaths = pd.read_csv(currDir + \"/time_series_covid19_deaths_global.csv\")\n",
    "df_recovered = pd.read_csv(currDir + \"/time_series_covid19_recovered_global.csv\")"
   ]
  },
  {
   "cell_type": "code",
   "execution_count": 7,
   "metadata": {},
   "outputs": [
    {
     "data": {
      "text/plain": [
       "Index(['Province/State', 'Country/Region', 'Lat', 'Long', '1/22/20', '1/23/20',\n",
       "       '1/24/20', '1/25/20', '1/26/20', '1/27/20',\n",
       "       ...\n",
       "       '5/13/20', '5/14/20', '5/15/20', '5/16/20', '5/17/20', '5/18/20',\n",
       "       '5/19/20', '5/20/20', '5/21/20', '5/22/20'],\n",
       "      dtype='object', length=126)"
      ]
     },
     "execution_count": 7,
     "metadata": {},
     "output_type": "execute_result"
    }
   ],
   "source": [
    "df_confirmed.columns"
   ]
  },
  {
   "cell_type": "code",
   "execution_count": 8,
   "metadata": {},
   "outputs": [
    {
     "name": "stdout",
     "output_type": "stream",
     "text": [
      "(32452, 6)\n",
      "(32452, 6)\n",
      "(30744, 6)\n"
     ]
    }
   ],
   "source": [
    "dates = df_confirmed.columns[4:]\n",
    "\n",
    "conf_df_long = df_confirmed.melt(id_vars=['Province/State', 'Country/Region', 'Lat', 'Long'], \n",
    "                            value_vars=dates, var_name='Date', value_name='Confirmed')\n",
    "\n",
    "deaths_df_long = df_deaths.melt(id_vars=['Province/State', 'Country/Region', 'Lat', 'Long'], \n",
    "                            value_vars=dates, var_name='Date', value_name='Deaths')\n",
    "\n",
    "recv_df_long = df_recovered.melt(id_vars=['Province/State', 'Country/Region', 'Lat', 'Long'], \n",
    "                            value_vars=dates, var_name='Date', value_name='Recovered')\n",
    "\n",
    "recv_df_long = recv_df_long[recv_df_long['Country/Region']!='Canada']\n",
    "\n",
    "print(conf_df_long.shape)\n",
    "print(deaths_df_long.shape)\n",
    "print(recv_df_long.shape)"
   ]
  },
  {
   "cell_type": "code",
   "execution_count": 9,
   "metadata": {},
   "outputs": [
    {
     "data": {
      "text/html": [
       "<div>\n",
       "<style scoped>\n",
       "    .dataframe tbody tr th:only-of-type {\n",
       "        vertical-align: middle;\n",
       "    }\n",
       "\n",
       "    .dataframe tbody tr th {\n",
       "        vertical-align: top;\n",
       "    }\n",
       "\n",
       "    .dataframe thead th {\n",
       "        text-align: right;\n",
       "    }\n",
       "</style>\n",
       "<table border=\"1\" class=\"dataframe\">\n",
       "  <thead>\n",
       "    <tr style=\"text-align: right;\">\n",
       "      <th></th>\n",
       "      <th>Province/State</th>\n",
       "      <th>Country/Region</th>\n",
       "      <th>Lat</th>\n",
       "      <th>Long</th>\n",
       "      <th>Date</th>\n",
       "      <th>Confirmed</th>\n",
       "      <th>Deaths</th>\n",
       "      <th>Recovered</th>\n",
       "    </tr>\n",
       "  </thead>\n",
       "  <tbody>\n",
       "    <tr>\n",
       "      <th>0</th>\n",
       "      <td>NaN</td>\n",
       "      <td>Afghanistan</td>\n",
       "      <td>33.0000</td>\n",
       "      <td>65.0000</td>\n",
       "      <td>1/22/20</td>\n",
       "      <td>0</td>\n",
       "      <td>0</td>\n",
       "      <td>0.0</td>\n",
       "    </tr>\n",
       "    <tr>\n",
       "      <th>1</th>\n",
       "      <td>NaN</td>\n",
       "      <td>Albania</td>\n",
       "      <td>41.1533</td>\n",
       "      <td>20.1683</td>\n",
       "      <td>1/22/20</td>\n",
       "      <td>0</td>\n",
       "      <td>0</td>\n",
       "      <td>0.0</td>\n",
       "    </tr>\n",
       "    <tr>\n",
       "      <th>2</th>\n",
       "      <td>NaN</td>\n",
       "      <td>Algeria</td>\n",
       "      <td>28.0339</td>\n",
       "      <td>1.6596</td>\n",
       "      <td>1/22/20</td>\n",
       "      <td>0</td>\n",
       "      <td>0</td>\n",
       "      <td>0.0</td>\n",
       "    </tr>\n",
       "    <tr>\n",
       "      <th>3</th>\n",
       "      <td>NaN</td>\n",
       "      <td>Andorra</td>\n",
       "      <td>42.5063</td>\n",
       "      <td>1.5218</td>\n",
       "      <td>1/22/20</td>\n",
       "      <td>0</td>\n",
       "      <td>0</td>\n",
       "      <td>0.0</td>\n",
       "    </tr>\n",
       "    <tr>\n",
       "      <th>4</th>\n",
       "      <td>NaN</td>\n",
       "      <td>Angola</td>\n",
       "      <td>-11.2027</td>\n",
       "      <td>17.8739</td>\n",
       "      <td>1/22/20</td>\n",
       "      <td>0</td>\n",
       "      <td>0</td>\n",
       "      <td>0.0</td>\n",
       "    </tr>\n",
       "  </tbody>\n",
       "</table>\n",
       "</div>"
      ],
      "text/plain": [
       "  Province/State Country/Region      Lat     Long     Date  Confirmed  Deaths  \\\n",
       "0            NaN    Afghanistan  33.0000  65.0000  1/22/20          0       0   \n",
       "1            NaN        Albania  41.1533  20.1683  1/22/20          0       0   \n",
       "2            NaN        Algeria  28.0339   1.6596  1/22/20          0       0   \n",
       "3            NaN        Andorra  42.5063   1.5218  1/22/20          0       0   \n",
       "4            NaN         Angola -11.2027  17.8739  1/22/20          0       0   \n",
       "\n",
       "   Recovered  \n",
       "0        0.0  \n",
       "1        0.0  \n",
       "2        0.0  \n",
       "3        0.0  \n",
       "4        0.0  "
      ]
     },
     "execution_count": 9,
     "metadata": {},
     "output_type": "execute_result"
    }
   ],
   "source": [
    "full_table = pd.merge(left=conf_df_long, right=deaths_df_long, how='left',\n",
    "                      on=['Province/State', 'Country/Region', 'Date', 'Lat', 'Long'])\n",
    "full_table = pd.merge(left=full_table, right=recv_df_long, how='left',\n",
    "                      on=['Province/State', 'Country/Region', 'Date', 'Lat', 'Long'])\n",
    "\n",
    "full_table.head()"
   ]
  },
  {
   "cell_type": "code",
   "execution_count": 10,
   "metadata": {},
   "outputs": [],
   "source": [
    "# Changing the conuntry names as required by pycountry_convert Lib\n",
    "full_table.loc[full_table['Country/Region'] == \"US\", \"Country/Region\"] = \"USA\"\n",
    "\n",
    "full_table.loc[full_table['Country/Region'] == 'Korea, South', \"Country/Region\"] = 'South Korea'\n",
    "\n",
    "full_table.loc[full_table['Country/Region'] == 'Taiwan*', \"Country/Region\"] = 'Taiwan'\n",
    "\n",
    "full_table.loc[full_table['Country/Region'] == 'Congo (Kinshasa)', \"Country/Region\"] = 'Democratic Republic of the Congo'\n",
    "\n",
    "full_table.loc[full_table['Country/Region'] == 'Congo (Brazzaville)', \"Country/Region\"] = 'Republic of the Congo'\n",
    "\n",
    "full_table.loc[full_table['Country/Region'] == 'Bahamas, The', \"Country/Region\"] = 'Bahamas'\n",
    "\n",
    "full_table.loc[full_table['Country/Region'] == 'Gambia, The', \"Country/Region\"] = 'Gambia'\n",
    "\n",
    "full_table.loc[full_table['Country/Region'] == \"Cote d'Ivoire\", \"Country/Region\"] = \"Côte d'Ivoire\"\n",
    "\n",
    "full_table.loc[full_table['Country/Region'] == \"Reunion\", \"Country/Region\"] = \"Réunion\"\n"
   ]
  },
  {
   "cell_type": "code",
   "execution_count": 11,
   "metadata": {},
   "outputs": [
    {
     "name": "stdout",
     "output_type": "stream",
     "text": [
      "(32452, 8)\n"
     ]
    }
   ],
   "source": [
    "print(full_table.shape)"
   ]
  },
  {
   "cell_type": "code",
   "execution_count": 12,
   "metadata": {},
   "outputs": [],
   "source": [
    "full_table['Recovered'] = full_table['Recovered'].fillna(0)\n",
    "full_table['Recovered'] = full_table['Recovered'].astype('int')"
   ]
  },
  {
   "cell_type": "code",
   "execution_count": 13,
   "metadata": {},
   "outputs": [],
   "source": [
    "# getting all countries\n",
    "countries = np.asarray(full_table[\"Country/Region\"])\n",
    "\n",
    "# Continent_code to Continent_names\n",
    "continents = {\n",
    "    'NA': 'North America',\n",
    "    'SA': 'South America', \n",
    "    'AS': 'Asia',\n",
    "    'OC': 'Australia',\n",
    "    'AF': 'Africa',\n",
    "    'EU' : 'Europe',\n",
    "    'na' : 'Others'\n",
    "}\n",
    "\n",
    "# Defininng Function for getting continent code for country.\n",
    "def country_to_continent_code(country):\n",
    "    try:\n",
    "        return pc.country_alpha2_to_continent_code(pc.country_name_to_country_alpha2(country))\n",
    "    except :\n",
    "        return 'na'\n",
    "\n",
    "#Collecting Continent Information\n",
    "full_table.insert(2,\"Continent\", [continents[country_to_continent_code(country)] for country in countries[:]] )   "
   ]
  },
  {
   "cell_type": "code",
   "execution_count": 14,
   "metadata": {},
   "outputs": [],
   "source": [
    "# removing\n",
    "# =======\n",
    "\n",
    "# removing canada's recovered values\n",
    "full_table = full_table[full_table['Province/State'].str.contains('Recovered')!=True]"
   ]
  },
  {
   "cell_type": "code",
   "execution_count": 15,
   "metadata": {},
   "outputs": [
    {
     "data": {
      "text/plain": [
       "(32452, 9)"
      ]
     },
     "execution_count": 15,
     "metadata": {},
     "output_type": "execute_result"
    }
   ],
   "source": [
    "full_table.loc[full_table['Province/State'] == \"Bonaire, Sint Eustatius and Saba\", \"Province/State\"] = \"Caribbean Netherlands\"\n",
    "full_table.shape"
   ]
  },
  {
   "cell_type": "raw",
   "metadata": {},
   "source": [
    "# Fixing off data"
   ]
  },
  {
   "cell_type": "code",
   "execution_count": 16,
   "metadata": {},
   "outputs": [],
   "source": [
    "# new values\n",
    "feb_12_conf = {'Hubei' : 34874}"
   ]
  },
  {
   "cell_type": "code",
   "execution_count": 17,
   "metadata": {},
   "outputs": [],
   "source": [
    "# function to change value\n",
    "def change_val(date, ref_col, val_col, dtnry):\n",
    "    for key, val in dtnry.items():\n",
    "        full_table.loc[(full_table['Date']==date) & (full_table[ref_col]==key), val_col] = val"
   ]
  },
  {
   "cell_type": "code",
   "execution_count": 18,
   "metadata": {},
   "outputs": [],
   "source": [
    "# changing values\n",
    "change_val('2/12/20', 'Province/State', 'Confirmed', feb_12_conf)"
   ]
  },
  {
   "cell_type": "code",
   "execution_count": 19,
   "metadata": {},
   "outputs": [
    {
     "data": {
      "text/html": [
       "<div>\n",
       "<style scoped>\n",
       "    .dataframe tbody tr th:only-of-type {\n",
       "        vertical-align: middle;\n",
       "    }\n",
       "\n",
       "    .dataframe tbody tr th {\n",
       "        vertical-align: top;\n",
       "    }\n",
       "\n",
       "    .dataframe thead th {\n",
       "        text-align: right;\n",
       "    }\n",
       "</style>\n",
       "<table border=\"1\" class=\"dataframe\">\n",
       "  <thead>\n",
       "    <tr style=\"text-align: right;\">\n",
       "      <th></th>\n",
       "      <th>Province/State</th>\n",
       "      <th>Country/Region</th>\n",
       "      <th>Continent</th>\n",
       "      <th>Lat</th>\n",
       "      <th>Long</th>\n",
       "      <th>Date</th>\n",
       "      <th>Confirmed</th>\n",
       "      <th>Deaths</th>\n",
       "      <th>Recovered</th>\n",
       "    </tr>\n",
       "  </thead>\n",
       "  <tbody>\n",
       "    <tr>\n",
       "      <th>5648</th>\n",
       "      <td>Hubei</td>\n",
       "      <td>China</td>\n",
       "      <td>Asia</td>\n",
       "      <td>30.9756</td>\n",
       "      <td>112.2707</td>\n",
       "      <td>2/12/20</td>\n",
       "      <td>34874</td>\n",
       "      <td>1068</td>\n",
       "      <td>2686</td>\n",
       "    </tr>\n",
       "  </tbody>\n",
       "</table>\n",
       "</div>"
      ],
      "text/plain": [
       "     Province/State Country/Region Continent      Lat      Long     Date  \\\n",
       "5648          Hubei          China      Asia  30.9756  112.2707  2/12/20   \n",
       "\n",
       "      Confirmed  Deaths  Recovered  \n",
       "5648      34874    1068       2686  "
      ]
     },
     "execution_count": 19,
     "metadata": {},
     "output_type": "execute_result"
    }
   ],
   "source": [
    "\n",
    "# checking values\n",
    "full_table[(full_table['Date']=='2/12/20') & (full_table['Province/State']=='Hubei')]"
   ]
  },
  {
   "cell_type": "code",
   "execution_count": 20,
   "metadata": {},
   "outputs": [
    {
     "data": {
      "text/html": [
       "<div>\n",
       "<style scoped>\n",
       "    .dataframe tbody tr th:only-of-type {\n",
       "        vertical-align: middle;\n",
       "    }\n",
       "\n",
       "    .dataframe tbody tr th {\n",
       "        vertical-align: top;\n",
       "    }\n",
       "\n",
       "    .dataframe thead th {\n",
       "        text-align: right;\n",
       "    }\n",
       "</style>\n",
       "<table border=\"1\" class=\"dataframe\">\n",
       "  <thead>\n",
       "    <tr style=\"text-align: right;\">\n",
       "      <th></th>\n",
       "      <th>Province/State</th>\n",
       "      <th>Country/Region</th>\n",
       "      <th>Continent</th>\n",
       "      <th>Lat</th>\n",
       "      <th>Long</th>\n",
       "      <th>Date</th>\n",
       "      <th>Confirmed</th>\n",
       "      <th>Deaths</th>\n",
       "      <th>Recovered</th>\n",
       "    </tr>\n",
       "  </thead>\n",
       "  <tbody>\n",
       "    <tr>\n",
       "      <th>0</th>\n",
       "      <td></td>\n",
       "      <td>Afghanistan</td>\n",
       "      <td>Asia</td>\n",
       "      <td>33.0000</td>\n",
       "      <td>65.0000</td>\n",
       "      <td>2020-01-22</td>\n",
       "      <td>0</td>\n",
       "      <td>0</td>\n",
       "      <td>0</td>\n",
       "    </tr>\n",
       "    <tr>\n",
       "      <th>1</th>\n",
       "      <td></td>\n",
       "      <td>Albania</td>\n",
       "      <td>Europe</td>\n",
       "      <td>41.1533</td>\n",
       "      <td>20.1683</td>\n",
       "      <td>2020-01-22</td>\n",
       "      <td>0</td>\n",
       "      <td>0</td>\n",
       "      <td>0</td>\n",
       "    </tr>\n",
       "    <tr>\n",
       "      <th>2</th>\n",
       "      <td></td>\n",
       "      <td>Algeria</td>\n",
       "      <td>Africa</td>\n",
       "      <td>28.0339</td>\n",
       "      <td>1.6596</td>\n",
       "      <td>2020-01-22</td>\n",
       "      <td>0</td>\n",
       "      <td>0</td>\n",
       "      <td>0</td>\n",
       "    </tr>\n",
       "    <tr>\n",
       "      <th>3</th>\n",
       "      <td></td>\n",
       "      <td>Andorra</td>\n",
       "      <td>Europe</td>\n",
       "      <td>42.5063</td>\n",
       "      <td>1.5218</td>\n",
       "      <td>2020-01-22</td>\n",
       "      <td>0</td>\n",
       "      <td>0</td>\n",
       "      <td>0</td>\n",
       "    </tr>\n",
       "    <tr>\n",
       "      <th>4</th>\n",
       "      <td></td>\n",
       "      <td>Angola</td>\n",
       "      <td>Africa</td>\n",
       "      <td>-11.2027</td>\n",
       "      <td>17.8739</td>\n",
       "      <td>2020-01-22</td>\n",
       "      <td>0</td>\n",
       "      <td>0</td>\n",
       "      <td>0</td>\n",
       "    </tr>\n",
       "  </tbody>\n",
       "</table>\n",
       "</div>"
      ],
      "text/plain": [
       "  Province/State Country/Region Continent      Lat     Long       Date  \\\n",
       "0                   Afghanistan      Asia  33.0000  65.0000 2020-01-22   \n",
       "1                       Albania    Europe  41.1533  20.1683 2020-01-22   \n",
       "2                       Algeria    Africa  28.0339   1.6596 2020-01-22   \n",
       "3                       Andorra    Europe  42.5063   1.5218 2020-01-22   \n",
       "4                        Angola    Africa -11.2027  17.8739 2020-01-22   \n",
       "\n",
       "   Confirmed  Deaths  Recovered  \n",
       "0          0       0          0  \n",
       "1          0       0          0  \n",
       "2          0       0          0  \n",
       "3          0       0          0  \n",
       "4          0       0          0  "
      ]
     },
     "execution_count": 20,
     "metadata": {},
     "output_type": "execute_result"
    }
   ],
   "source": [
    "full_table = full_table.replace(np.nan, '', regex=True)\n",
    "full_table['Date'] = pd.to_datetime(full_table.Date)\n",
    "full_table.head()"
   ]
  },
  {
   "cell_type": "code",
   "execution_count": 21,
   "metadata": {},
   "outputs": [],
   "source": [
    "full_table.to_csv(currDir + '/covid_19_global_complete.csv', index=False)"
   ]
  },
  {
   "cell_type": "code",
   "execution_count": 22,
   "metadata": {},
   "outputs": [
    {
     "name": "stdout",
     "output_type": "stream",
     "text": [
      "Province/State\n",
      "Country/Region\n",
      "Continent\n",
      "Lat\n",
      "Long\n",
      "Date\n",
      "Confirmed\n",
      "Deaths\n",
      "Recovered\n"
     ]
    }
   ],
   "source": [
    "for column in full_table.columns:\n",
    "    print (column)"
   ]
  },
  {
   "cell_type": "code",
   "execution_count": null,
   "metadata": {},
   "outputs": [],
   "source": []
  }
 ],
 "metadata": {
  "kernelspec": {
   "display_name": "Python 3",
   "language": "python",
   "name": "python3"
  },
  "language_info": {
   "codemirror_mode": {
    "name": "ipython",
    "version": 3
   },
   "file_extension": ".py",
   "mimetype": "text/x-python",
   "name": "python",
   "nbconvert_exporter": "python",
   "pygments_lexer": "ipython3",
   "version": "3.7.3"
  }
 },
 "nbformat": 4,
 "nbformat_minor": 2
}
