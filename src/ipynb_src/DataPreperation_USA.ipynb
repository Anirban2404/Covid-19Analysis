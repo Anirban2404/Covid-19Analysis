{
 "cells": [
  {
   "cell_type": "code",
   "execution_count": 1,
   "metadata": {},
   "outputs": [],
   "source": [
    "import pandas as pd\n",
    "import numpy as np\n",
    "\n",
    "import wget\n",
    "import os, datetime\n",
    "import shutil\n",
    "\n",
    "import pycountry_convert as pc"
   ]
  },
  {
   "cell_type": "code",
   "execution_count": 2,
   "metadata": {},
   "outputs": [],
   "source": [
    "# create dir\n",
    "def createDir(currDir):\n",
    "    isdir = os.path.isdir(currDir) \n",
    "\n",
    "    if isdir:\n",
    "        try:\n",
    "            shutil.rmtree(currDir, ignore_errors=True)\n",
    "        except OSError:\n",
    "            print (\"Deletition of the directory %s failed\" % currDir)\n",
    "\n",
    "    try:\n",
    "        os.mkdir(currDir)\n",
    "    except OSError:\n",
    "        print (\"Creation of the directory %s failed\" % currDir)\n",
    "    else:\n",
    "        print (\"Successfully created the directory %s \" % currDir)"
   ]
  },
  {
   "cell_type": "code",
   "execution_count": 3,
   "metadata": {},
   "outputs": [],
   "source": [
    "def transformFiles(currDir):\n",
    "# Datasets loaded to DataFrame\n",
    "    df_confirmed = pd.read_csv(currDir + \"/time_series_covid19_confirmed_US.csv\")\n",
    "    df_deaths = pd.read_csv(currDir + \"/time_series_covid19_deaths_US.csv\")\n",
    "    # print(df_confirmed.columns)\n",
    "    \n",
    "    ids = df_confirmed.columns[0:11]\n",
    "    us_dates = df_confirmed.columns[11:]\n",
    "\n",
    "    us_conf_df_long = df_confirmed.melt(id_vars=ids, value_vars=us_dates, \n",
    "                                        var_name='Date', value_name='Confirmed')\n",
    "    us_deaths_df_long = df_deaths.melt(id_vars=ids, value_vars=us_dates, \n",
    "                                       var_name='Date', value_name='Deaths')\n",
    "\n",
    "    # print(us_conf_df_long.shape)\n",
    "    # print(us_deaths_df_long.shape)\n",
    "\n",
    "    #ft_ids = us_conf_df_long.columns[:-1]\n",
    "    us_full_table = pd.concat([us_conf_df_long, us_deaths_df_long[['Deaths']]], axis=1)\n",
    "    del us_full_table['Combined_Key']\n",
    "    us_full_table['Date'] = pd.to_datetime(us_full_table.Date)\n",
    "    us_full_table.loc[us_full_table['Country_Region'] == \"US\", \"Country_Region\"] = \"USA\"\n",
    "    \n",
    "    us_full_table['Confirmed'] = us_full_table['Confirmed'].astype(int)\n",
    "    us_full_table['Deaths'] = us_full_table['Deaths'].astype(int)\n",
    "    print(us_full_table.shape)\n",
    "    \n",
    "    return us_full_table"
   ]
  },
  {
   "cell_type": "code",
   "execution_count": 4,
   "metadata": {},
   "outputs": [],
   "source": [
    "# download files\n",
    "def downloadFiles(urls, currDir):\n",
    "    for url in urls:\n",
    "        wget.download(url, currDir)\n",
    "    print (\"Successfully downloaded files\")"
   ]
  },
  {
   "cell_type": "code",
   "execution_count": 5,
   "metadata": {},
   "outputs": [],
   "source": [
    "# Save to csv file\n",
    "def saveFiletoCSV(usa_full_table, currDir):\n",
    "    usa_full_table.to_csv(currDir + '/covid_19_usa_county_wise.csv', index=False)\n",
    "    print(\"File Saved at %s\" % currDir)"
   ]
  },
  {
   "cell_type": "code",
   "execution_count": 6,
   "metadata": {},
   "outputs": [
    {
     "name": "stdout",
     "output_type": "stream",
     "text": [
      "Successfully created the directory ../../DataStore/COVID-19-data-US \n",
      "Successfully downloaded files\n",
      "(401103, 13)\n",
      "File Saved at ../../DataStore/COVID-19-data-US\n"
     ]
    }
   ],
   "source": [
    "currDir = \"../../DataStore/COVID-19-data-US\"\n",
    "\n",
    "# urls of the files\n",
    "urls = ['https://raw.githubusercontent.com/CSSEGISandData/COVID-19/master/csse_covid_19_data/csse_covid_19_time_series/time_series_covid19_confirmed_US.csv', \n",
    "        'https://raw.githubusercontent.com/CSSEGISandData/COVID-19/master/csse_covid_19_data/csse_covid_19_time_series/time_series_covid19_deaths_US.csv']\n",
    "\n",
    "createDir(currDir)\n",
    "downloadFiles(urls, currDir)\n",
    "usa_full_table = transformFiles(currDir)\n",
    "saveFiletoCSV(usa_full_table, currDir)"
   ]
  },
  {
   "cell_type": "code",
   "execution_count": 7,
   "metadata": {},
   "outputs": [],
   "source": [
    "# usa_full_table[(usa_full_table['Province_State'] == \"Maryland\" )\n",
    "#                   & (usa_full_table['Admin2'] == \"Montgomery\")] "
   ]
  },
  {
   "cell_type": "code",
   "execution_count": null,
   "metadata": {},
   "outputs": [],
   "source": []
  }
 ],
 "metadata": {
  "kernelspec": {
   "display_name": "Python 3",
   "language": "python",
   "name": "python3"
  },
  "language_info": {
   "codemirror_mode": {
    "name": "ipython",
    "version": 3
   },
   "file_extension": ".py",
   "mimetype": "text/x-python",
   "name": "python",
   "nbconvert_exporter": "python",
   "pygments_lexer": "ipython3",
   "version": "3.7.3"
  }
 },
 "nbformat": 4,
 "nbformat_minor": 2
}
