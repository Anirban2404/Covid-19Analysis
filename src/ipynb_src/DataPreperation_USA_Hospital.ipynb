{
 "cells": [
  {
   "cell_type": "code",
   "execution_count": 1,
   "metadata": {},
   "outputs": [],
   "source": [
    "import pandas as pd\n",
    "import numpy as np\n",
    "\n",
    "import wget\n",
    "import os, datetime\n",
    "import shutil\n",
    "\n",
    "import pycountry_convert as pc"
   ]
  },
  {
   "cell_type": "code",
   "execution_count": 2,
   "metadata": {},
   "outputs": [],
   "source": [
    "# create dir\n",
    "def createDir(currDir):\n",
    "    isdir = os.path.isdir(currDir) \n",
    "\n",
    "    if isdir:\n",
    "        try:\n",
    "            shutil.rmtree(currDir, ignore_errors=True)\n",
    "        except OSError:\n",
    "            print (\"Deletion of the directory %s failed\" % currDir)\n",
    "\n",
    "    try:\n",
    "        os.mkdir(currDir)\n",
    "    except OSError:\n",
    "        print (\"Creation of the directory %s failed\" % currDir)\n",
    "    else:\n",
    "        print (\"Successfully created the directory %s \" % currDir)"
   ]
  },
  {
   "cell_type": "code",
   "execution_count": 3,
   "metadata": {},
   "outputs": [],
   "source": [
    "# download files\n",
    "def downloadFiles(urls, currDir):\n",
    "    for url in urls:\n",
    "        wget.download(url, currDir)\n",
    "    print (\"Successfully downloaded files\")"
   ]
  },
  {
   "cell_type": "code",
   "execution_count": 4,
   "metadata": {},
   "outputs": [],
   "source": [
    "def transformFiles(currDir):\n",
    "    # Datasets loaded to DataFrame\n",
    "    df_hospitals = pd.read_csv(currDir + \"/Definitive_Healthcare:_USA_Hospital_Beds.csv\")\n",
    "    df_hospitals = df_hospitals.rename(columns={\"X\": \"Long_\", \"Y\": \"Lat_\"})\n",
    "    df_hospitals = df_hospitals.drop(columns=['HOSPITAL_TYPE', 'HQ_ADDRESS', 'HQ_ADDRESS1', \n",
    "                                              'HQ_CITY', 'HQ_STATE', 'HQ_ZIP_CODE',\n",
    "                                              'Potential_Increase_In_Bed_Capac', 'STATE_FIPS',\n",
    "                                              'CNTY_FIPS', 'AVG_VENTILATOR_USAGE', 'ADULT_ICU_BEDS', \n",
    "                                              'PEDI_ICU_BEDS','BED_UTILIZATION'])\n",
    "    # Replace Null values\n",
    "    df_hospitals = df_hospitals.replace(np.nan, 0, regex=True)\n",
    "    df_hospitals['FIPS'] = df_hospitals['FIPS'].astype(int)\n",
    "    df_hospitals['NUM_LICENSED_BEDS'] = df_hospitals['NUM_LICENSED_BEDS'].astype(int)\n",
    "    df_hospitals['NUM_STAFFED_BEDS'] = df_hospitals['NUM_STAFFED_BEDS'].astype(int)\n",
    "    df_hospitals['NUM_ICU_BEDS'] = df_hospitals['NUM_ICU_BEDS'].astype(int)\n",
    "    df_hospitals = df_hospitals[df_hospitals['Lat_'] != 0] \n",
    "    print(\"Table Shape: \", df_hospitals.shape)\n",
    "    \n",
    "    return df_hospitals"
   ]
  },
  {
   "cell_type": "code",
   "execution_count": 5,
   "metadata": {},
   "outputs": [],
   "source": [
    "# Save to csv file\n",
    "def saveFiletoCSV(usa_full_table, currDir):\n",
    "    usa_full_table.to_csv(currDir + '/hospital_usa_county_wise.csv', index=False)\n",
    "    print(\"File Saved at %s\" % currDir)"
   ]
  },
  {
   "cell_type": "code",
   "execution_count": 6,
   "metadata": {},
   "outputs": [
    {
     "name": "stdout",
     "output_type": "stream",
     "text": [
      "Successfully created the directory ../../DataStore/Hospital-data-US \n",
      "Successfully downloaded files\n",
      "Table Shape:  (6605, 10)\n",
      "File Saved at ../../DataStore/Hospital-data-US\n"
     ]
    }
   ],
   "source": [
    "currDir = \"../../DataStore/Hospital-data-US\"\n",
    "\n",
    "# urls of the files\n",
    "# https://coronavirus-resources.esri.com/datasets/1044bb19da8d4dbfb6a96eb1b4ebf629_0/data?geometry=10.019%2C-16.820%2C-34.981%2C72.123\n",
    "urls = ['https://opendata.arcgis.com/datasets/1044bb19da8d4dbfb6a96eb1b4ebf629_0.csv']\n",
    "\n",
    "createDir(currDir)\n",
    "downloadFiles(urls, currDir)\n",
    "usa_hospitals = transformFiles(currDir)\n",
    "saveFiletoCSV(usa_hospitals, currDir)"
   ]
  },
  {
   "cell_type": "code",
   "execution_count": 7,
   "metadata": {},
   "outputs": [
    {
     "data": {
      "text/plain": [
       "Index(['Long_', 'Lat_', 'FID', 'HOSPITAL_NAME', 'COUNTY_NAME', 'STATE_NAME',\n",
       "       'FIPS', 'NUM_LICENSED_BEDS', 'NUM_STAFFED_BEDS', 'NUM_ICU_BEDS'],\n",
       "      dtype='object')"
      ]
     },
     "execution_count": 7,
     "metadata": {},
     "output_type": "execute_result"
    }
   ],
   "source": [
    "usa_hospitals.columns"
   ]
  },
  {
   "cell_type": "code",
   "execution_count": 8,
   "metadata": {
    "scrolled": true
   },
   "outputs": [
    {
     "data": {
      "text/html": [
       "<div>\n",
       "<style scoped>\n",
       "    .dataframe tbody tr th:only-of-type {\n",
       "        vertical-align: middle;\n",
       "    }\n",
       "\n",
       "    .dataframe tbody tr th {\n",
       "        vertical-align: top;\n",
       "    }\n",
       "\n",
       "    .dataframe thead th {\n",
       "        text-align: right;\n",
       "    }\n",
       "</style>\n",
       "<table border=\"1\" class=\"dataframe\">\n",
       "  <thead>\n",
       "    <tr style=\"text-align: right;\">\n",
       "      <th></th>\n",
       "      <th>Long_</th>\n",
       "      <th>Lat_</th>\n",
       "      <th>FID</th>\n",
       "      <th>HOSPITAL_NAME</th>\n",
       "      <th>COUNTY_NAME</th>\n",
       "      <th>STATE_NAME</th>\n",
       "      <th>FIPS</th>\n",
       "      <th>NUM_LICENSED_BEDS</th>\n",
       "      <th>NUM_STAFFED_BEDS</th>\n",
       "      <th>NUM_ICU_BEDS</th>\n",
       "    </tr>\n",
       "  </thead>\n",
       "  <tbody>\n",
       "    <tr>\n",
       "      <th>0</th>\n",
       "      <td>-112.066157</td>\n",
       "      <td>33.495498</td>\n",
       "      <td>1</td>\n",
       "      <td>Phoenix VA Health Care System (AKA Carl T Hayd...</td>\n",
       "      <td>Maricopa</td>\n",
       "      <td>Arizona</td>\n",
       "      <td>4013</td>\n",
       "      <td>62</td>\n",
       "      <td>62</td>\n",
       "      <td>0</td>\n",
       "    </tr>\n",
       "    <tr>\n",
       "      <th>1</th>\n",
       "      <td>-110.965885</td>\n",
       "      <td>32.181263</td>\n",
       "      <td>2</td>\n",
       "      <td>Southern Arizona VA Health Care System</td>\n",
       "      <td>Pima</td>\n",
       "      <td>Arizona</td>\n",
       "      <td>4019</td>\n",
       "      <td>295</td>\n",
       "      <td>295</td>\n",
       "      <td>2</td>\n",
       "    </tr>\n",
       "    <tr>\n",
       "      <th>2</th>\n",
       "      <td>-119.779742</td>\n",
       "      <td>36.773323</td>\n",
       "      <td>3</td>\n",
       "      <td>VA Central California Health Care System</td>\n",
       "      <td>Fresno</td>\n",
       "      <td>California</td>\n",
       "      <td>6019</td>\n",
       "      <td>54</td>\n",
       "      <td>54</td>\n",
       "      <td>2</td>\n",
       "    </tr>\n",
       "    <tr>\n",
       "      <th>3</th>\n",
       "      <td>-72.957610</td>\n",
       "      <td>41.284400</td>\n",
       "      <td>4</td>\n",
       "      <td>VA Connecticut Healthcare System - West Haven ...</td>\n",
       "      <td>New Haven</td>\n",
       "      <td>Connecticut</td>\n",
       "      <td>9009</td>\n",
       "      <td>216</td>\n",
       "      <td>216</td>\n",
       "      <td>1</td>\n",
       "    </tr>\n",
       "    <tr>\n",
       "      <th>4</th>\n",
       "      <td>-75.606533</td>\n",
       "      <td>39.740206</td>\n",
       "      <td>5</td>\n",
       "      <td>Wilmington VA Medical Center</td>\n",
       "      <td>New Castle</td>\n",
       "      <td>Delaware</td>\n",
       "      <td>10003</td>\n",
       "      <td>62</td>\n",
       "      <td>62</td>\n",
       "      <td>0</td>\n",
       "    </tr>\n",
       "  </tbody>\n",
       "</table>\n",
       "</div>"
      ],
      "text/plain": [
       "        Long_       Lat_  FID  \\\n",
       "0 -112.066157  33.495498    1   \n",
       "1 -110.965885  32.181263    2   \n",
       "2 -119.779742  36.773323    3   \n",
       "3  -72.957610  41.284400    4   \n",
       "4  -75.606533  39.740206    5   \n",
       "\n",
       "                                       HOSPITAL_NAME COUNTY_NAME   STATE_NAME  \\\n",
       "0  Phoenix VA Health Care System (AKA Carl T Hayd...    Maricopa      Arizona   \n",
       "1             Southern Arizona VA Health Care System        Pima      Arizona   \n",
       "2           VA Central California Health Care System      Fresno   California   \n",
       "3  VA Connecticut Healthcare System - West Haven ...   New Haven  Connecticut   \n",
       "4                       Wilmington VA Medical Center  New Castle     Delaware   \n",
       "\n",
       "    FIPS  NUM_LICENSED_BEDS  NUM_STAFFED_BEDS  NUM_ICU_BEDS  \n",
       "0   4013                 62                62             0  \n",
       "1   4019                295               295             2  \n",
       "2   6019                 54                54             2  \n",
       "3   9009                216               216             1  \n",
       "4  10003                 62                62             0  "
      ]
     },
     "execution_count": 8,
     "metadata": {},
     "output_type": "execute_result"
    }
   ],
   "source": [
    "usa_hospitals.head()"
   ]
  },
  {
   "cell_type": "code",
   "execution_count": 9,
   "metadata": {},
   "outputs": [
    {
     "data": {
      "text/plain": [
       "Long_                float64\n",
       "Lat_                 float64\n",
       "FID                    int64\n",
       "HOSPITAL_NAME         object\n",
       "COUNTY_NAME           object\n",
       "STATE_NAME            object\n",
       "FIPS                   int64\n",
       "NUM_LICENSED_BEDS      int64\n",
       "NUM_STAFFED_BEDS       int64\n",
       "NUM_ICU_BEDS           int64\n",
       "dtype: object"
      ]
     },
     "execution_count": 9,
     "metadata": {},
     "output_type": "execute_result"
    }
   ],
   "source": [
    "usa_hospitals.dtypes"
   ]
  },
  {
   "cell_type": "code",
   "execution_count": null,
   "metadata": {},
   "outputs": [],
   "source": []
  }
 ],
 "metadata": {
  "kernelspec": {
   "display_name": "Python 3",
   "language": "python",
   "name": "python3"
  },
  "language_info": {
   "codemirror_mode": {
    "name": "ipython",
    "version": 3
   },
   "file_extension": ".py",
   "mimetype": "text/x-python",
   "name": "python",
   "nbconvert_exporter": "python",
   "pygments_lexer": "ipython3",
   "version": "3.7.3"
  }
 },
 "nbformat": 4,
 "nbformat_minor": 2
}
