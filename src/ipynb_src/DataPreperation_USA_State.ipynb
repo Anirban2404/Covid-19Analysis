{
 "cells": [
  {
   "cell_type": "raw",
   "metadata": {},
   "source": [
    "## Retriving Dataset\n",
    "## https://github.com/CSSEGISandData/COVID-19.git\n",
    "## ! python3 -m pip install wget\n",
    "## ! python3 -m pip install pandas\n",
    "## !python3 -m pip install pycountry_convert "
   ]
  },
  {
   "cell_type": "code",
   "execution_count": 1,
   "metadata": {},
   "outputs": [],
   "source": [
    "import pandas as pd\n",
    "import numpy as np\n",
    "\n",
    "import wget\n",
    "import os, datetime\n",
    "import shutil\n",
    "\n",
    "import requests\n",
    "from bs4 import BeautifulSoup\n",
    "\n",
    "import glob"
   ]
  },
  {
   "cell_type": "code",
   "execution_count": 2,
   "metadata": {},
   "outputs": [],
   "source": [
    "def scrape_data(search_url, download_url):\n",
    "\n",
    "    response = requests.get(search_url, timeout=10)\n",
    "    soup = BeautifulSoup(response.content, 'html.parser')\n",
    "\n",
    "    table = soup.find_all('table')\n",
    "    rows = table[0].select('tbody > tr > td > span ')\n",
    "\n",
    "    header = [th.text.rstrip() for th in rows[0].find_all('th')]\n",
    "    download_urls = []\n",
    "    for row in rows:\n",
    "        for th in row.find_all('a', href=True):\n",
    "            if 'csv' in th['title'] and len(th['title']) < 15:\n",
    "                download_urls.append(download_url + th['title'].rstrip())\n",
    "    return download_urls"
   ]
  },
  {
   "cell_type": "code",
   "execution_count": 3,
   "metadata": {},
   "outputs": [],
   "source": [
    "# create dir\n",
    "def createDir(currDir):\n",
    "    isdir = os.path.isdir(currDir) \n",
    "\n",
    "    if isdir:\n",
    "        try:\n",
    "            shutil.rmtree(currDir, ignore_errors=True)\n",
    "        except OSError:\n",
    "            print (\"Deletition of the directory %s failed\" % currDir)\n",
    "\n",
    "    try:\n",
    "        os.mkdir(currDir)\n",
    "    except OSError:\n",
    "        print (\"Creation of the directory %s failed\" % currDir)\n",
    "    else:\n",
    "        print (\"Successfully created the directory %s \" % currDir)"
   ]
  },
  {
   "cell_type": "code",
   "execution_count": 4,
   "metadata": {},
   "outputs": [],
   "source": [
    "# download files\n",
    "def downloadFiles(urls, currDir):\n",
    "    for url in urls:\n",
    "        wget.download(url, currDir)\n",
    "    print (\"Successfully downloaded files\")"
   ]
  },
  {
   "cell_type": "code",
   "execution_count": 5,
   "metadata": {},
   "outputs": [],
   "source": [
    "def transformFiles(currDir):\n",
    "    # get data file names\n",
    "    filenames = glob.glob(currDir  + \"/*.csv\")\n",
    "\n",
    "    dfs = []\n",
    "    for filename in filenames:\n",
    "        dfs.append(pd.read_csv(filename))\n",
    "\n",
    "    # Concatenate all data into one DataFrame\n",
    "    us_state_table = pd.concat(dfs, ignore_index=True)\n",
    "    \n",
    "    # Replace Null values\n",
    "    us_state_table = us_state_table.replace(np.nan, '', regex=True)\n",
    "    us_state_table = us_state_table[us_state_table['Province_State'].str.contains('Recovered')!=True]\n",
    "    print(\"Table Shape: \", us_state_table.shape)\n",
    "    \n",
    "    return us_state_table"
   ]
  },
  {
   "cell_type": "code",
   "execution_count": 6,
   "metadata": {},
   "outputs": [],
   "source": [
    "# Save to csv file\n",
    "def saveFiletoCSV(usa_state_table, currDir):\n",
    "    usa_state_table.to_csv(currDir + '/covid_19_us_states_complete.csv', index=False)\n",
    "    print(\"File Saved at %s\" % currDir)"
   ]
  },
  {
   "cell_type": "code",
   "execution_count": 7,
   "metadata": {},
   "outputs": [
    {
     "name": "stdout",
     "output_type": "stream",
     "text": [
      "Successfully created the directory ../../DataStore/COVID-19-data-state-USA \n",
      "Successfully downloaded files\n",
      "Table Shape:  (2596, 18)\n",
      "File Saved at ../../DataStore/COVID-19-data-state-USA\n"
     ]
    }
   ],
   "source": [
    "#urls for github folder\n",
    "search_url = \"https://github.com/CSSEGISandData/COVID-19/tree/master/csse_covid_19_data/csse_covid_19_daily_reports_us\"\n",
    "download_url = \"https://raw.githubusercontent.com/CSSEGISandData/COVID-19/master/csse_covid_19_data/csse_covid_19_daily_reports_us/\"\n",
    "download_urls = scrape_data(search_url, download_url)\n",
    "\n",
    "currDir = \"../../DataStore/COVID-19-data-state-USA\"\n",
    "\n",
    "createDir(currDir)\n",
    "downloadFiles(download_urls, currDir)\n",
    "usa_state_table = transformFiles(currDir)\n",
    "saveFiletoCSV(usa_state_table, currDir)"
   ]
  },
  {
   "cell_type": "code",
   "execution_count": null,
   "metadata": {},
   "outputs": [],
   "source": []
  }
 ],
 "metadata": {
  "kernelspec": {
   "display_name": "Python 3",
   "language": "python",
   "name": "python3"
  },
  "language_info": {
   "codemirror_mode": {
    "name": "ipython",
    "version": 3
   },
   "file_extension": ".py",
   "mimetype": "text/x-python",
   "name": "python",
   "nbconvert_exporter": "python",
   "pygments_lexer": "ipython3",
   "version": "3.7.3"
  }
 },
 "nbformat": 4,
 "nbformat_minor": 2
}
