{
 "cells": [
  {
   "cell_type": "code",
   "execution_count": 1,
   "metadata": {},
   "outputs": [],
   "source": [
    "import pandas as pd\n",
    "import numpy as np\n",
    "\n",
    "import wget\n",
    "import os, datetime\n",
    "import shutil\n",
    "\n",
    "import pycountry_convert as pc"
   ]
  },
  {
   "cell_type": "code",
   "execution_count": 2,
   "metadata": {},
   "outputs": [],
   "source": [
    "# create dir\n",
    "def createDir(currDir):\n",
    "    isdir = os.path.isdir(currDir) \n",
    "\n",
    "    if isdir:\n",
    "        try:\n",
    "            shutil.rmtree(currDir, ignore_errors=True)\n",
    "        except OSError:\n",
    "            print (\"Deletion of the directory %s failed\" % currDir)\n",
    "\n",
    "    try:\n",
    "        os.mkdir(currDir)\n",
    "    except OSError:\n",
    "        print (\"Creation of the directory %s failed\" % currDir)\n",
    "    else:\n",
    "        print (\"Successfully created the directory %s \" % currDir)"
   ]
  },
  {
   "cell_type": "code",
   "execution_count": 3,
   "metadata": {},
   "outputs": [],
   "source": [
    "# download files\n",
    "def downloadFiles(urls, currDir):\n",
    "    for url in urls:\n",
    "        wget.download(url, currDir)\n",
    "    print (\"Successfully downloaded files\")"
   ]
  },
  {
   "cell_type": "code",
   "execution_count": 4,
   "metadata": {},
   "outputs": [],
   "source": [
    "def transformFiles(currDir):\n",
    "    # Datasets loaded to DataFrame\n",
    "    df_population = pd.read_csv(currDir + \"/co-est2019-alldata.csv\", \n",
    "                                dtype=str, encoding='latin-1')\n",
    "    df_population = df_population.loc[:, ['STATE', 'COUNTY', 'STNAME', 'CTYNAME', 'POPESTIMATE2019']]\n",
    "    df_population['FIPS'] = df_population[['STATE', 'COUNTY']].apply(lambda x: ''.join(x), axis=1)\n",
    "    df_population['FIPS'] = df_population['FIPS'].astype(int)\n",
    "    df_population = df_population.loc[:, ['STNAME', 'CTYNAME', 'POPESTIMATE2019', 'FIPS']]\n",
    "    df_population = df_population.rename(columns={'STNAME': \"State\", \"CTYNAME\": \"County\", \n",
    "                                  \"POPESTIMATE2019\": \"Population2019\"})\n",
    "    \n",
    "    df_population['County'] = df_population['County'].apply(lambda x: \n",
    "                                                            x.replace('County','').strip())\n",
    "    return df_population"
   ]
  },
  {
   "cell_type": "code",
   "execution_count": 5,
   "metadata": {},
   "outputs": [],
   "source": [
    "# Save to csv file\n",
    "def saveFiletoCSV(usa_full_table, currDir):\n",
    "    usa_full_table.to_csv(currDir + '/population_usa_county_wise.csv', index=False)\n",
    "    print(\"File Saved at %s\" % currDir)"
   ]
  },
  {
   "cell_type": "code",
   "execution_count": 6,
   "metadata": {},
   "outputs": [
    {
     "name": "stdout",
     "output_type": "stream",
     "text": [
      "Successfully created the directory ../../DataStore/Population_County \n",
      "Successfully downloaded files\n",
      "File Saved at ../../DataStore/Population_County\n"
     ]
    }
   ],
   "source": [
    "currDir = \"../../DataStore/Population_County\"\n",
    "\n",
    "# urls of the files\n",
    "urls = ['https://www2.census.gov/programs-surveys/popest/datasets/2010-2019/counties/totals/co-est2019-alldata.csv']\n",
    "\n",
    "createDir(currDir)\n",
    "downloadFiles(urls, currDir)\n",
    "df_population = transformFiles(currDir)\n",
    "saveFiletoCSV(df_population, currDir)"
   ]
  }
 ],
 "metadata": {
  "kernelspec": {
   "display_name": "Python 3",
   "language": "python",
   "name": "python3"
  },
  "language_info": {
   "codemirror_mode": {
    "name": "ipython",
    "version": 3
   },
   "file_extension": ".py",
   "mimetype": "text/x-python",
   "name": "python",
   "nbconvert_exporter": "python",
   "pygments_lexer": "ipython3",
   "version": "3.7.3"
  }
 },
 "nbformat": 4,
 "nbformat_minor": 2
}
