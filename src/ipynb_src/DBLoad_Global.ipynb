{
 "cells": [
  {
   "cell_type": "raw",
   "metadata": {},
   "source": [
    "# !python3 -m pip install mysql-connector-python-rf\n",
    "# !python3 -m pip install mysql-connector-python"
   ]
  },
  {
   "cell_type": "code",
   "execution_count": 1,
   "metadata": {},
   "outputs": [],
   "source": [
    "import mysql.connector\n",
    "import os"
   ]
  },
  {
   "cell_type": "code",
   "execution_count": 2,
   "metadata": {},
   "outputs": [],
   "source": [
    "'''\n",
    "allow local infile loading must be TRUE to load csv files.\n",
    "\n",
    ">>> mysql> SHOW GLOBAL VARIABLES LIKE '%infile%';\n",
    "    +---------------+-------+\n",
    "    | Variable_name | Value |\n",
    "    +---------------+-------+\n",
    "    | local_infile  | OFF   |\n",
    "    +---------------+-------+\n",
    "    1 row in set (0.00 sec)\n",
    "\n",
    ">>> mysql> SET GLOBAL local_infile=1;\n",
    "    Query OK, 0 rows affected (0.00 sec)\n",
    "\n",
    ">>> mysql> SHOW GLOBAL VARIABLES LIKE '%infile%';\n",
    "    +---------------+-------+\n",
    "    | Variable_name | Value |\n",
    "    +---------------+-------+\n",
    "    | local_infile  | ON    |\n",
    "    +---------------+-------+\n",
    "    1 row in set (0.00 sec)\n",
    "'''\n",
    "\n",
    "class DBConnect:\n",
    "    def __init__(self, host):\n",
    "        self.host = host\n",
    "\n",
    "    def _mySqlConnect(self):\n",
    "        _mySqlDB = mysql.connector.connect(\n",
    "            host=self.host,  # \"localhost\",\n",
    "            user=\"covidAnalyst\",\n",
    "            passwd=\"P@ssw0rd\",\n",
    "            auth_plugin='mysql_native_password',\n",
    "            database=\"covid_data\",\n",
    "            allow_local_infile=True\n",
    "        )\n",
    "        return _mySqlDB"
   ]
  },
  {
   "cell_type": "code",
   "execution_count": 3,
   "metadata": {},
   "outputs": [],
   "source": [
    "def createTable(tableName):\n",
    "    dropTable = \"DROP TABLE \" + tableName + \";\"\n",
    "    createTable = \"CREATE TABLE \" + tableName + \"(\\\n",
    "        Province_State VARCHAR(50),\\\n",
    "        Country_Region VARCHAR(25) NOT NULL,\\\n",
    "        Continent VARCHAR(25) NOT NULL,\\\n",
    "        Lat_ FLOAT NOT NULL,\\\n",
    "        Long_ FLOAT NOT NULL,\\\n",
    "        Update_Date DATE NOT NULL,\\\n",
    "        Confirmed INT NOT NULL,\\\n",
    "        Deaths INT NOT NULL,\\\n",
    "        Recovered INT\\\n",
    "    );\"\n",
    "    \n",
    "    # Connect to covid_data database\n",
    "    covid_db = DBConnect(host=\"localhost\")\n",
    "     \n",
    "    mySqlConnect = covid_db._mySqlConnect()\n",
    "    cursor = mySqlConnect.cursor()\n",
    "    try:\n",
    "        cursor.execute(dropTable)\n",
    "    except:\n",
    "        print (\"Drop Table failed\")\n",
    "        cursor.execute(createTable)\n",
    "        print (\"Successfully created the table\")\n",
    "    else:\n",
    "        cursor.execute(createTable)\n",
    "        print (\"Successfully created the table\")\n",
    "    cursor.close()"
   ]
  },
  {
   "cell_type": "code",
   "execution_count": 4,
   "metadata": {},
   "outputs": [],
   "source": [
    "def loadTable(loadTable):\n",
    "    # Connect to covid_data database\n",
    "    covid_db = DBConnect(host=\"localhost\")\n",
    "     \n",
    "    mySqlConnect = covid_db._mySqlConnect()\n",
    "    cursor = mySqlConnect.cursor()\n",
    "    \n",
    "    try:\n",
    "        cursor.execute(loadTable)\n",
    "        print (\"Successfully loaded the table\")\n",
    "    except Exception:\n",
    "        print (\"Load Table failed\", Exception)\n",
    "    cursor.close()"
   ]
  },
  {
   "cell_type": "code",
   "execution_count": 5,
   "metadata": {},
   "outputs": [
    {
     "name": "stdout",
     "output_type": "stream",
     "text": [
      "Successfully created the table\n",
      "Successfully loaded the table\n"
     ]
    }
   ],
   "source": [
    "# Create Table\n",
    "tableName = 'covid_global'\n",
    "createTable(tableName)\n",
    "\n",
    "# Load Table\n",
    "CSVPath = os.getcwd() + '/../../DataStore/'\n",
    "dirName = 'COVID-19-global/'\n",
    "fileName = 'covid_19_global_complete.csv'\n",
    "loadCSV = CSVPath + dirName + fileName \n",
    "\n",
    "loadCSVsql = \"LOAD DATA LOCAL INFILE '\" + loadCSV + \"'\\\n",
    "    INTO TABLE covid_global\\\n",
    "    FIELDS TERMINATED BY ',' LINES TERMINATED BY '\\n' IGNORE 1 ROWS (\\\n",
    "    Province_State,\\\n",
    "    Country_Region,\\\n",
    "    Continent,\\\n",
    "    Lat_,\\\n",
    "    Long_,\\\n",
    "    Update_Date,\\\n",
    "    Confirmed,\\\n",
    "    Deaths,\\\n",
    "    Recovered); \\\n",
    "    commit;\"\n",
    "\n",
    "loadTable(loadCSVsql)"
   ]
  }
 ],
 "metadata": {
  "kernelspec": {
   "display_name": "Python 3",
   "language": "python",
   "name": "python3"
  },
  "language_info": {
   "codemirror_mode": {
    "name": "ipython",
    "version": 3
   },
   "file_extension": ".py",
   "mimetype": "text/x-python",
   "name": "python",
   "nbconvert_exporter": "python",
   "pygments_lexer": "ipython3",
   "version": "3.7.3"
  }
 },
 "nbformat": 4,
 "nbformat_minor": 2
}
