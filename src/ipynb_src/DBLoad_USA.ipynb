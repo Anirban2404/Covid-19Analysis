{
 "cells": [
  {
   "cell_type": "raw",
   "metadata": {},
   "source": [
    "# !python3 -m pip install mysql-connector-python-rf\n",
    "# !python3 -m pip install mysql-connector-python"
   ]
  },
  {
   "cell_type": "code",
   "execution_count": 1,
   "metadata": {},
   "outputs": [],
   "source": [
    "import mysql.connector\n",
    "import os"
   ]
  },
  {
   "cell_type": "code",
   "execution_count": 2,
   "metadata": {},
   "outputs": [],
   "source": [
    "'''\n",
    "allow local infile loading must be TRUE to load csv files.\n",
    "\n",
    ">>> mysql> SHOW GLOBAL VARIABLES LIKE '%infile%';\n",
    "    +---------------+-------+\n",
    "    | Variable_name | Value |\n",
    "    +---------------+-------+\n",
    "    | local_infile  | OFF   |\n",
    "    +---------------+-------+\n",
    "    1 row in set (0.00 sec)\n",
    "\n",
    ">>> mysql> SET GLOBAL local_infile=1;\n",
    "    Query OK, 0 rows affected (0.00 sec)\n",
    "\n",
    ">>> mysql> SHOW GLOBAL VARIABLES LIKE '%infile%';\n",
    "    +---------------+-------+\n",
    "    | Variable_name | Value |\n",
    "    +---------------+-------+\n",
    "    | local_infile  | ON    |\n",
    "    +---------------+-------+\n",
    "    1 row in set (0.00 sec)\n",
    "'''\n",
    "\n",
    "class DBConnect:\n",
    "    def __init__(self, host):\n",
    "        self.host = host\n",
    "\n",
    "    def _mySqlConnect(self):\n",
    "        _mySqlDB = mysql.connector.connect(\n",
    "            host=self.host,  # \"localhost\",\n",
    "            user=\"covidAnalyst\",\n",
    "            passwd=\"P@ssw0rd\",\n",
    "            auth_plugin='mysql_native_password',\n",
    "            database=\"covid_data\",\n",
    "            allow_local_infile=True\n",
    "        )\n",
    "        return _mySqlDB"
   ]
  },
  {
   "cell_type": "code",
   "execution_count": 3,
   "metadata": {},
   "outputs": [],
   "source": [
    "def createTable(tableName):\n",
    "    dropTable = \"DROP TABLE \" + tableName + \";\"\n",
    "    createTable = \"CREATE TABLE \" + tableName + \"(\\\n",
    "        UID INT NOT NULL,\\\n",
    "        iso2 VARCHAR(2) NOT NULL,\\\n",
    "        iso3 VARCHAR(3) NOT NULL,\\\n",
    "        code3 INT NOT NULL,\\\n",
    "        FIPS FLOAT NOT NULL,\\\n",
    "        Admin2 VARCHAR(25),\\\n",
    "        Province_State VARCHAR(50) NOT NULL,\\\n",
    "        Country_Region VARCHAR(25) NOT NULL,\\\n",
    "        Lat_ FLOAT NOT NULL,\\\n",
    "        Long_ FLOAT NOT NULL,\\\n",
    "        Update_Date DATE NOT NULL,\\\n",
    "        Confirmed INT NOT NULL,\\\n",
    "        Deaths INT NOT NULL\\\n",
    "    );\"\n",
    "    \n",
    "    # Connect to covid_data database\n",
    "    covid_db = DBConnect(host=\"localhost\")\n",
    "     \n",
    "    mySqlConnect = covid_db._mySqlConnect()\n",
    "    cursor = mySqlConnect.cursor()\n",
    "    \n",
    "    try:\n",
    "        cursor.execute(dropTable)\n",
    "    except:\n",
    "        print (\"Drop Table failed\")\n",
    "        cursor.execute(createTable)\n",
    "        print (\"Successfully created the table\")\n",
    "    else:\n",
    "        cursor.execute(createTable)\n",
    "        print (\"Successfully created the table\")\n",
    "    cursor.close()"
   ]
  },
  {
   "cell_type": "code",
   "execution_count": 4,
   "metadata": {},
   "outputs": [],
   "source": [
    "def loadTable(loadCSVsql):\n",
    "    # Connect to covid_data database\n",
    "    covid_db = DBConnect(host=\"localhost\")\n",
    "     \n",
    "    mySqlConnect = covid_db._mySqlConnect()\n",
    "    cursor = mySqlConnect.cursor()\n",
    "    \n",
    "    try:\n",
    "        cursor.execute(loadCSVsql)\n",
    "        print (\"Successfully loaded the table\")\n",
    "    except Exception:\n",
    "        print (\"Load Table failed\", Exception)\n",
    "    cursor.close()"
   ]
  },
  {
   "cell_type": "code",
   "execution_count": 5,
   "metadata": {},
   "outputs": [
    {
     "name": "stdout",
     "output_type": "stream",
     "text": [
      "Successfully created the table\n",
      "Successfully loaded the table\n"
     ]
    }
   ],
   "source": [
    "# Create Table\n",
    "tableName = \"covid_USA\"\n",
    "createTable(tableName)\n",
    "\n",
    "# Load Table\n",
    "CSVPath = os.getcwd() + '/../../DataStore/'\n",
    "dirName = 'COVID-19-data-US/'\n",
    "fileName = 'covid_19_usa_county_wise.csv'\n",
    "loadCSV = CSVPath + dirName + fileName \n",
    "\n",
    "loadCSVsql = \"LOAD DATA LOCAL INFILE '\" + loadCSV + \"'\\\n",
    "    INTO TABLE covid_USA\\\n",
    "    FIELDS TERMINATED BY ',' LINES TERMINATED BY '\\n' IGNORE 1 ROWS (\\\n",
    "    UID,\\\n",
    "    iso2,\\\n",
    "    iso3,\\\n",
    "    code3,\\\n",
    "    FIPS,\\\n",
    "    Admin2,\\\n",
    "    Province_State,\\\n",
    "    Country_Region,\\\n",
    "    Lat_,\\\n",
    "    Long_,\\\n",
    "    Update_Date,\\\n",
    "    Confirmed,\\\n",
    "    Deaths); \\\n",
    "    commit;\"\n",
    "\n",
    "loadTable(loadCSVsql)"
   ]
  },
  {
   "cell_type": "code",
   "execution_count": null,
   "metadata": {},
   "outputs": [],
   "source": []
  }
 ],
 "metadata": {
  "kernelspec": {
   "display_name": "Python 3",
   "language": "python",
   "name": "python3"
  },
  "language_info": {
   "codemirror_mode": {
    "name": "ipython",
    "version": 3
   },
   "file_extension": ".py",
   "mimetype": "text/x-python",
   "name": "python",
   "nbconvert_exporter": "python",
   "pygments_lexer": "ipython3",
   "version": "3.7.3"
  }
 },
 "nbformat": 4,
 "nbformat_minor": 2
}
